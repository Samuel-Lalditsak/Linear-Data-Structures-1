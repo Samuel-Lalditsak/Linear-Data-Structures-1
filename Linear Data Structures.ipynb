{
 "cells": [
  {
   "cell_type": "markdown",
   "metadata": {},
   "source": [
    "### Q1. Write a program to find all pairs of an integer array whose sum is equal to a given number?"
   ]
  },
  {
   "cell_type": "code",
   "execution_count": 1,
   "metadata": {},
   "outputs": [],
   "source": [
    "def find_pairs(nums, target):\n",
    "  nums_set = set(nums)\n",
    "  pairs = []\n",
    "  for num in nums:\n",
    "    complement = target - num\n",
    "    if complement in nums_set:\n",
    "      pairs.append((num, complement))\n",
    "  return pairs"
   ]
  },
  {
   "cell_type": "markdown",
   "metadata": {},
   "source": [
    "### Q2. Write a program to reverse an array in place? In place means you cannot create a new array. You have to update the original array."
   ]
  },
  {
   "cell_type": "code",
   "execution_count": 2,
   "metadata": {},
   "outputs": [],
   "source": [
    "def reverse_array_in_place(nums):\n",
    "  n = len(nums)\n",
    "  for i in range(n // 2):\n",
    "    nums[i], nums[n - i - 1] = nums[n - i - 1], nums[i]"
   ]
  },
  {
   "cell_type": "markdown",
   "metadata": {},
   "source": [
    "### Q3. Write a program to check if two strings are a rotation of each other?"
   ]
  },
  {
   "cell_type": "code",
   "execution_count": 3,
   "metadata": {},
   "outputs": [],
   "source": [
    "def are_strings_rotations(str1, str2):\n",
    "  if len(str1) != len(str2):\n",
    "    return False\n",
    "  str1_concat = str1 + str1\n",
    "  return str2 in str1_concat"
   ]
  },
  {
   "cell_type": "markdown",
   "metadata": {},
   "source": [
    "### Q4. Write a program to print the first non-repeated character from a string?"
   ]
  },
  {
   "cell_type": "code",
   "execution_count": 4,
   "metadata": {},
   "outputs": [],
   "source": [
    "def first_non_repeated_character(str1):\n",
    "    char_order = []\n",
    "    char_count = {}\n",
    "    for c in str1:\n",
    "        if c not in char_count:\n",
    "            char_count[c] = 0\n",
    "        char_count[c] += 1\n",
    "        char_order.append(c)\n",
    "    for c in char_order:\n",
    "        if char_count[c] == 1:\n",
    "            return c\n",
    "    return None"
   ]
  },
  {
   "cell_type": "markdown",
   "metadata": {},
   "source": [
    "### Q5. Read about the Tower of Hanoi algorithm. Write a program to implement it."
   ]
  },
  {
   "cell_type": "code",
   "execution_count": 5,
   "metadata": {},
   "outputs": [
    {
     "name": "stdout",
     "output_type": "stream",
     "text": [
      "Move disk 1 from rod A to rod B\n",
      "Move disk 2 from rod A to rod C\n",
      "Move disk 1 from rod B to rod C\n",
      "Move disk 3 from rod A to rod B\n",
      "Move disk 1 from rod C to rod A\n",
      "Move disk 2 from rod C to rod B\n",
      "Move disk 1 from rod A to rod B\n",
      "Move disk 4 from rod A to rod C\n",
      "Move disk 1 from rod B to rod C\n",
      "Move disk 2 from rod B to rod A\n",
      "Move disk 1 from rod C to rod A\n",
      "Move disk 3 from rod B to rod C\n",
      "Move disk 1 from rod A to rod B\n",
      "Move disk 2 from rod A to rod C\n",
      "Move disk 1 from rod B to rod C\n"
     ]
    }
   ],
   "source": [
    "def tower_of_hanoi(n, from_rod, to_rod, aux_rod):\n",
    "    if n == 1:\n",
    "        print(\"Move disk 1 from rod\", from_rod, \"to rod\", to_rod)\n",
    "        return\n",
    "    tower_of_hanoi(n-1, from_rod, aux_rod, to_rod)\n",
    "    print(\"Move disk\", n, \"from rod\", from_rod, \"to rod\", to_rod)\n",
    "    tower_of_hanoi(n-1, aux_rod, to_rod, from_rod)\n",
    "n = 4\n",
    "tower_of_hanoi(n, 'A', 'C', 'B')"
   ]
  },
  {
   "cell_type": "markdown",
   "metadata": {},
   "source": [
    "### Q6. Read about infix, prefix, and postfix expressions. Write a program to convert postfix to prefix expression."
   ]
  },
  {
   "cell_type": "code",
   "execution_count": 6,
   "metadata": {},
   "outputs": [],
   "source": [
    "def postfix_to_prefix(postfix_expr):\n",
    "  reversed_expr = postfix_expr[::-1]\n",
    "  stack = []\n",
    "  for token in reversed_expr:\n",
    "    if token.isalpha():\n",
    "      stack.append(token)\n",
    "    else:\n",
    "      operand1 = stack.pop()\n",
    "      operand2 = stack.pop()\n",
    "      operator = token\n",
    "      expression = operator + operand1 + operand2\n",
    "      stack.append(expression)\n",
    "  return stack[0]"
   ]
  },
  {
   "cell_type": "markdown",
   "metadata": {},
   "source": [
    "### Q7. Write a program to convert prefix expression to infix expression."
   ]
  },
  {
   "cell_type": "code",
   "execution_count": 7,
   "metadata": {},
   "outputs": [],
   "source": [
    "def prefix_to_infix(prefix_expr):\n",
    "  reversed_expr = prefix_expr[::-1]\n",
    "  stack = []\n",
    "  for token in reversed_expr:\n",
    "    if token.isalpha():\n",
    "      stack.append(token)\n",
    "    else:\n",
    "      operand1 = stack.pop()\n",
    "      operand2 = stack.pop()\n",
    "      operator = token\n",
    "      expression = \"(\" + operand1 + operator + operand2 + \")\"\n",
    "      stack.append(expression)\n",
    "  return stack[0]"
   ]
  },
  {
   "cell_type": "markdown",
   "metadata": {},
   "source": [
    "### Q8. Write a program to check if all the brackets are closed in a given code snippet."
   ]
  },
  {
   "cell_type": "code",
   "execution_count": 8,
   "metadata": {},
   "outputs": [],
   "source": [
    "def check_brackets(code_snippet):\n",
    "  stack = []\n",
    "  for char in code_snippet:\n",
    "    if char in \"([{\":\n",
    "      stack.append(char)\n",
    "    elif char in \")]}\":\n",
    "      if not stack:\n",
    "        return False\n",
    "      top = stack.pop()\n",
    "      if top == \"(\" and char != \")\":\n",
    "        return False\n",
    "      elif top == \"[\" and char != \"]\":\n",
    "        return False\n",
    "      elif top == \"{\" and char != \"}\":\n",
    "        return False\n",
    "  return not stack"
   ]
  },
  {
   "cell_type": "markdown",
   "metadata": {},
   "source": [
    "### Q9. Write a program to reverse a stack."
   ]
  },
  {
   "cell_type": "code",
   "execution_count": 9,
   "metadata": {},
   "outputs": [],
   "source": [
    "def reverse_stack(stack):\n",
    "  reversed_stack = []\n",
    "  while stack:\n",
    "    reversed_stack.append(stack.pop())\n",
    "  return reversed_stack"
   ]
  },
  {
   "cell_type": "markdown",
   "metadata": {},
   "source": [
    "### Q10. Write a program to find the smallest number using a stack."
   ]
  },
  {
   "cell_type": "code",
   "execution_count": 10,
   "metadata": {},
   "outputs": [],
   "source": [
    "def find_smallest_number(stack):\n",
    "  if not stack:\n",
    "    return None\n",
    "  smallest = stack[0]\n",
    "  for number in stack[1:]:\n",
    "    if number < smallest:\n",
    "      smallest = number\n",
    "  return smallest"
   ]
  }
 ],
 "metadata": {
  "interpreter": {
   "hash": "aee8b7b246df8f9039afb4144a1f6fd8d2ca17a180786b69acc140d282b71a49"
  },
  "kernelspec": {
   "display_name": "Python 3.11.4 64-bit",
   "language": "python",
   "name": "python3"
  },
  "language_info": {
   "codemirror_mode": {
    "name": "ipython",
    "version": 3
   },
   "file_extension": ".py",
   "mimetype": "text/x-python",
   "name": "python",
   "nbconvert_exporter": "python",
   "pygments_lexer": "ipython3",
   "version": "3.11.4"
  },
  "orig_nbformat": 4
 },
 "nbformat": 4,
 "nbformat_minor": 2
}
